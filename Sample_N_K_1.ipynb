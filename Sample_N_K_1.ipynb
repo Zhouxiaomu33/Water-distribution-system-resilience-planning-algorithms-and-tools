{
 "cells": [
  {
   "cell_type": "code",
   "execution_count": 1,
   "id": "98c3f9e4",
   "metadata": {},
   "outputs": [],
   "source": [
    "import numpy as np\n",
    "import copy\n",
    "import pickle\n",
    "import wntr\n",
    "import wntr.network.controls as controls\n",
    "from itertools import combinations"
   ]
  },
  {
   "cell_type": "code",
   "execution_count": 2,
   "id": "adc758ac",
   "metadata": {},
   "outputs": [],
   "source": [
    "def N_K_simulation(nk_pipe_list, wdn, conting_st, conting_et, seriest):\n",
    "    # Get the nodes with demands\n",
    "    junctions = wdn.junction_name_list\n",
    "    nodes = []\n",
    "    for j in junctions:\n",
    "        j_object = wdn.get_node(j)\n",
    "        base_demand = j_object.demand_timeseries_list[0].base_value\n",
    "        if base_demand > 1e-8:\n",
    "            nodes.append(j)\n",
    "    \n",
    "    # Perform simulation for normal operations\n",
    "    wdno = copy.deepcopy(wdn)\n",
    "    wdno.options.time.duration = 24 * 3600\n",
    "    wdno.options.hydraulic.demand_model = 'PDD'\n",
    "    simo = wntr.sim.EpanetSimulator(wdno)\n",
    "    resultso = simo.run_sim() # by default run EPANET 2.2\n",
    "    demandso = resultso.node['demand']\n",
    "    # Calculate the expected total demand\n",
    "    expected_total = {}\n",
    "    for t in seriest:\n",
    "        expected_total[t] = 0\n",
    "        for n in nodes:\n",
    "            expected_total[t] += demandso.loc[t*3600, n]\n",
    "    \n",
    "    # N-k contingency simulation\n",
    "    functionality_loss = {}\n",
    "    # The corresponding simulation results after turning off a set of pipe\n",
    "    for nk_pipe in nk_pipe_list:\n",
    "        # Initialization\n",
    "        functionality_loss[nk_pipe] = {}\n",
    "        for t in seriest:\n",
    "            functionality_loss[nk_pipe][t] = 1\n",
    "        \n",
    "        # Make a copy of the original water distribution network\n",
    "        wdnc = copy.deepcopy(wdn)\n",
    "        ctrl1_list = []\n",
    "        ctrl2_list = []\n",
    "        for k in range(len(nk_pipe)):\n",
    "            p_object = wdnc.get_link(nk_pipe[k])\n",
    "            p_act1 = controls.ControlAction(p_object, 'status', 0)\n",
    "            p_cond1 = controls.SimTimeCondition(wdnc, '=', str(conting_st) + ':00:00')\n",
    "            ctrl1 = controls.Control(p_cond1, p_act1)\n",
    "            ctrl1_list.append(ctrl1)\n",
    "            p_act2 = controls.ControlAction(p_object, 'status', 1)\n",
    "            p_cond2 = controls.SimTimeCondition(wdnc, '=', str(conting_et) + ':00:00')\n",
    "            ctrl2 = controls.Control(p_cond2, p_act2)\n",
    "            ctrl2_list.append(ctrl2)\n",
    "        # Assign the controls on the network\n",
    "        for m in range(len(ctrl1_list)):\n",
    "            wdnc.add_control('Conting_start'+str(m), ctrl1_list[m])\n",
    "            wdnc.add_control('Conting_end'+str(m), ctrl2_list[m])\n",
    "        \n",
    "        wdnc.options.time.duration = conting_et * 3600\n",
    "        wdnc.options.hydraulic.demand_model = 'PDD'\n",
    "        simc = wntr.sim.WNTRSimulator(wdnc)\n",
    "        try:\n",
    "            resultsc = simc.run_sim() # runs EPANET 2.2.0  version = 2.2\n",
    "            actual_demands = resultsc.node['demand']\n",
    "            for t in seriest:\n",
    "                # some simulations may only have part of results \n",
    "                try:\n",
    "                    actual_total = 0\n",
    "                    for n in nodes:\n",
    "                        actual_total += actual_demands.loc[t*3600, n]\n",
    "                    loss = 1 - (actual_total / expected_total[t])\n",
    "                    functionality_loss[nk_pipe][t] = loss\n",
    "                except:\n",
    "                    pass\n",
    "        except:\n",
    "            pass\n",
    "    return functionality_loss"
   ]
  },
  {
   "cell_type": "code",
   "execution_count": 3,
   "id": "1710a9b1",
   "metadata": {},
   "outputs": [],
   "source": [
    "def generate_sample(n, k, pipe_list):\n",
    "    samples = []\n",
    "    index = range(len(pipe_list))\n",
    "    for i in range(n):\n",
    "        # Non-replaceable sampling\n",
    "        select = np.random.choice(index, size = k, replace = False)\n",
    "        samplei = []\n",
    "        for ind in select:\n",
    "            samplei.append(pipe_list[ind])\n",
    "        samples.append(tuple(samplei))\n",
    "    return samples       "
   ]
  },
  {
   "cell_type": "code",
   "execution_count": 4,
   "id": "07cc98c1",
   "metadata": {},
   "outputs": [],
   "source": [
    "# Load basic parameters\n",
    "Wdn = wntr.network.WaterNetworkModel('LumbertonS.inp')\n",
    "# The time of the contingency \n",
    "Conting_st = 0\n",
    "# The end of the simulation\n",
    "Simula_et = 24\n",
    "Seriest = [int(t) for t in np.linspace(1, 23, 23)]\n",
    "Pipe_list = Wdn.pipe_name_list"
   ]
  },
  {
   "cell_type": "code",
   "execution_count": 5,
   "id": "7b755ce5",
   "metadata": {},
   "outputs": [],
   "source": [
    "N = 10000\n",
    "K = 3\n",
    "Samples = generate_sample(N, K, Pipe_list)"
   ]
  },
  {
   "cell_type": "code",
   "execution_count": 6,
   "id": "f7c9e00f",
   "metadata": {},
   "outputs": [],
   "source": [
    "Sample_simulation = N_K_simulation(Samples, Wdn, Conting_st, Simula_et, Seriest)"
   ]
  },
  {
   "cell_type": "code",
   "execution_count": 7,
   "id": "a2b66c0b",
   "metadata": {},
   "outputs": [],
   "source": [
    "FSample_simulation = open('LumbertonS_N' + str(K) + '_sample2.pickle','wb')\n",
    "pickle.dump(Sample_simulation, FSample_simulation)\n",
    "FSample_simulation.close()"
   ]
  },
  {
   "cell_type": "code",
   "execution_count": null,
   "id": "d29d2992",
   "metadata": {},
   "outputs": [],
   "source": []
  }
 ],
 "metadata": {
  "kernelspec": {
   "display_name": "Python 3 (ipykernel)",
   "language": "python",
   "name": "python3"
  },
  "language_info": {
   "codemirror_mode": {
    "name": "ipython",
    "version": 3
   },
   "file_extension": ".py",
   "mimetype": "text/x-python",
   "name": "python",
   "nbconvert_exporter": "python",
   "pygments_lexer": "ipython3",
   "version": "3.8.16"
  }
 },
 "nbformat": 4,
 "nbformat_minor": 5
}
